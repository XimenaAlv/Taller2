{
 "cells": [
  {
   "cell_type": "code",
   "execution_count": 5,
   "metadata": {},
   "outputs": [
    {
     "ename": "SyntaxError",
     "evalue": "invalid syntax (<ipython-input-5-df8d2f0cc70c>, line 1)",
     "output_type": "error",
     "traceback": [
      "\u001b[0;36m  File \u001b[0;32m\"<ipython-input-5-df8d2f0cc70c>\"\u001b[0;36m, line \u001b[0;32m1\u001b[0m\n\u001b[0;31m    pip install selenium\u001b[0m\n\u001b[0m        ^\u001b[0m\n\u001b[0;31mSyntaxError\u001b[0m\u001b[0;31m:\u001b[0m invalid syntax\n"
     ]
    }
   ],
   "source": [
    "pip install selenium\n"
   ]
  },
  {
   "cell_type": "code",
   "execution_count": 6,
   "metadata": {},
   "outputs": [
    {
     "name": "stdout",
     "output_type": "stream",
     "text": [
      "Collecting pymongo\n",
      "  Downloading pymongo-3.12.1-cp38-cp38-manylinux_2_17_x86_64.manylinux2014_x86_64.whl (527 kB)\n",
      "\u001b[K     |████████████████████████████████| 527 kB 7.5 MB/s eta 0:00:01\n",
      "\u001b[?25hInstalling collected packages: pymongo\n",
      "Successfully installed pymongo-3.12.1\n",
      "Note: you may need to restart the kernel to use updated packages.\n"
     ]
    }
   ],
   "source": [
    "pip install pymongo"
   ]
  },
  {
   "cell_type": "code",
   "execution_count": 2,
   "metadata": {
    "tags": []
   },
   "outputs": [],
   "source": [
    "# Importing required libraries\n",
    "\n",
    "import time\n",
    "\n",
    "from bs4 import BeautifulSoup\n",
    "from selenium import webdriver\n",
    "\n",
    "from pymongo import MongoClient"
   ]
  },
  {
   "cell_type": "code",
   "execution_count": 21,
   "metadata": {},
   "outputs": [],
   "source": [
    "# Creating a connection to MongoDB\n",
    "client = MongoClient('localhost', 27017)\n",
    "db = client['news']\n",
    "collection = db['elespectador']"
   ]
  },
  {
   "cell_type": "code",
   "execution_count": 22,
   "metadata": {},
   "outputs": [],
   "source": [
    "# Base URL of the site to be analyzed\n",
    "SITE_URL = 'https://www.elespectador.com'"
   ]
  },
  {
   "cell_type": "code",
   "execution_count": 23,
   "metadata": {},
   "outputs": [],
   "source": [
    "# Firefox web driver path\n",
    "# Download the driver for you S.O. here: https://github.com/mozilla/geckodriver/releases\n",
    "DRIVER_PATH = './geckodriver'"
   ]
  },
  {
   "cell_type": "code",
   "execution_count": 24,
   "metadata": {},
   "outputs": [
    {
     "name": "stderr",
     "output_type": "stream",
     "text": [
      "<ipython-input-24-c8b61cbdd697>:2: DeprecationWarning: executable_path has been deprecated, please pass in a Service object\n",
      "  browser = webdriver.Firefox(executable_path = DRIVER_PATH)\n"
     ]
    }
   ],
   "source": [
    "# Creating a new firefox window\n",
    "browser = webdriver.Firefox(executable_path = DRIVER_PATH)"
   ]
  },
  {
   "cell_type": "code",
   "execution_count": 25,
   "metadata": {},
   "outputs": [],
   "source": [
    "def make_request(browser, relative_path):\n",
    "    # Making the request and rendering the browser\n",
    "    browser.get(SITE_URL + relative_path)\n",
    "    \n",
    "    # Simulating vertical scrolling for handling lazy load\n",
    "    check_height = browser.execute_script('return document.body.scrollHeight;')\n",
    "    while True:\n",
    "        browser.execute_script('window.scrollTo(0, document.body.scrollHeight);')\n",
    "        time.sleep(3)\n",
    "        height = browser.execute_script('return document.body.scrollHeight;')\n",
    "        if height == check_height: \n",
    "            break \n",
    "        check_height = height\n",
    "    \n",
    "    # Getting HTML content and passing it to BeautifulSoup for scraping analysis\n",
    "    return BeautifulSoup(browser.page_source, 'html.parser')"
   ]
  },
  {
   "cell_type": "code",
   "execution_count": 26,
   "metadata": {},
   "outputs": [],
   "source": [
    "# Getting HTML content for news listing page\n",
    "soup = make_request(browser, '/archivo/politica/')\n",
    "soup.append(make_request(browser, '/archivo/ciencia/'))\n",
    "soup.append(make_request(browser, '/archivo/tecnologia/'))\n",
    "soup.append(make_request(browser, '/archivo/salud/'))\n",
    "soup.append(make_request(browser, '/archivo/educacion/'))"
   ]
  },
  {
   "cell_type": "code",
   "execution_count": 27,
   "metadata": {},
   "outputs": [],
   "source": [
    "# Finding the section where news are contained \n",
    "layout = soup.find(class_ = 'Layout-flexAds')"
   ]
  },
  {
   "cell_type": "code",
   "execution_count": 28,
   "metadata": {},
   "outputs": [
    {
     "name": "stdout",
     "output_type": "stream",
     "text": [
      "3\n"
     ]
    }
   ],
   "source": [
    "# Getting blocks from layout\n",
    "blocks = layout.find('section').find_all(recursive = False)\n",
    "print(len(blocks)) # 3 blocks founded, 2 for news and 1 for pagintion"
   ]
  },
  {
   "cell_type": "code",
   "execution_count": 29,
   "metadata": {},
   "outputs": [
    {
     "data": {
      "text/plain": [
       "4"
      ]
     },
     "execution_count": 29,
     "metadata": {},
     "output_type": "execute_result"
    }
   ],
   "source": [
    "# Finding and concatenating news cards\n",
    "cards = blocks[0].find_all(class_ = 'Card') + blocks[1].find_all(class_ = 'Card')\n",
    "len(cards)"
   ]
  },
  {
   "cell_type": "code",
   "execution_count": 30,
   "metadata": {},
   "outputs": [],
   "source": [
    "# Building a list with title and relative path of the news founded\n",
    "\n",
    "news = []\n",
    "\n",
    "for card in cards:\n",
    "    news.append({\n",
    "        'title': card.find('h2', class_ = 'Card-Title').find('a').get_text(),\n",
    "        'relative_path': card.find('h2', class_ = 'Card-Title').find('a')['href']\n",
    "    })"
   ]
  },
  {
   "cell_type": "code",
   "execution_count": 32,
   "metadata": {},
   "outputs": [
    {
     "data": {
      "text/plain": [
       "[{'title': 'Jennifer Arias influyó en el voto de un representante en la Ley de Garantías',\n",
       "  'relative_path': '/politica/jennifer-arias-influyo-en-el-voto-de-un-representante-a-la-ley-de-garantias/'},\n",
       " {'title': '“Bases de datos del DANE no son confiables”: registrador nacional ',\n",
       "  'relative_path': '/economia/bases-de-datos-del-dane-no-son-confiables-registrador-nacional/'},\n",
       " {'title': 'Gobierno, a rendir cuentas sobre sobre atención a mujeres víctimas del conflicto',\n",
       "  'relative_path': '/politica/gobierno-a-rendir-cuentas-sobre-sobre-atencion-a-mujeres-victimas-del-conflicto/'},\n",
       " {'title': 'También para Congreso: ya van 129 comités que buscan recolectar firmas',\n",
       "  'relative_path': '/politica/tambien-para-congreso-ya-van-129-comites-que-buscan-recolectar-firmas/'}]"
      ]
     },
     "execution_count": 32,
     "metadata": {},
     "output_type": "execute_result"
    }
   ],
   "source": [
    "news"
   ]
  },
  {
   "cell_type": "code",
   "execution_count": 33,
   "metadata": {},
   "outputs": [],
   "source": [
    "for n in news:\n",
    "    # Getting HTML content for news page\n",
    "    soup = make_request(browser, n['relative_path'])\n",
    "    \n",
    "    # Extracting news metadata\n",
    "    n['datetime'] = soup.find(class_ = 'ArticleHeader-Date').get_text()\n",
    "    n['author'] = soup.find(class_ = 'ACredit-Author').find('a').get_text()\n",
    "    n['summary'] = soup.find(class_ = 'ArticleHeader-Hook').find('div').get_text()\n",
    "    \n",
    "    # Extracting and concatenating news full text\n",
    "    paragraphs = soup.find_all(class_ = 'font--secondary')\n",
    "    n['full_text'] = ' '.join([p.get_text() for p in paragraphs])"
   ]
  },
  {
   "cell_type": "code",
   "execution_count": 34,
   "metadata": {},
   "outputs": [
    {
     "data": {
      "text/plain": [
       "[{'title': 'Jennifer Arias influyó en el voto de un representante en la Ley de Garantías',\n",
       "  'relative_path': '/politica/jennifer-arias-influyo-en-el-voto-de-un-representante-a-la-ley-de-garantias/',\n",
       "  'datetime': '22 Oct. 2021  - 12:02 p.\\xa0m.',\n",
       "  'author': 'Redacción Política',\n",
       "  'summary': 'El representante Anatolio Hernández, de la U, preguntó en plena transmisión cómo votar el artículo 125 del Presupuesto de 2022, que modifica la Ley de Garantías. Arias y otra representante le dijeron que votara afirmativamente.',\n",
       "  'full_text': 'Las redes no perdonan ni olvidan y, aunque ya pasaron tres días desde la aprobación del Presupuesto General de 2022, se está reviviendo un momento de la discusión del proyecto en la Cámara de Representantes. Lea más contexto sobre la discusión alrededor de la Ley de Garantías.  El fragmento del video que circula en Twitter ilustra la votación del artículo que modifica la Ley de Garantías, el tema más polémico del presupuesto, y la postura del representante Anatolio Hernández, del Partido de la U, quien preguntó cómo votar y una colega y la presidenta de la corporación, Jennifer Arias, del Centro Democrático, lo llevan a que lo haga afirmativamente. Anatolio Hernández: ¿Cómo están votando? ¿Cómo voto? Secretario de la Cámara -haciendo llamado a lista-: Anatolio Hernández Anatolio Hernández: ¿Cómo voto? Jennifer Arias: Anatolio se está escuchando Voz de una mujer no reconocida: Anatolio vote sí Jennifer Arias: Anatolio vote sí Anatolio Hernández -dando la respuesta-: Voto sí Secretario de la Cámara -certificando el voto-: me repite su voto Anatolio Hernández: Anatolio vota sí Voz de hombre no reconocida: Anatolio vote no Anatolio Hernández en tono confundido: ¿Cómo? Voz de hombre no reconocida: ¿Anatolio Hernández cómo vota? Sí Voz de hombre no reconocida: Vote sí Voz de hombre no reconocida: Déjelo votar tranquilo Aunque el voto de Hernández no iba a incidir en el resultado 98 sobre 39, que estaban en contra de modificar la Ley de Garantías, la ciudadanía pone en tela de juicio la independencia del representante de la U, así como su atención a la discusión de un artículo trascendental para las elecciones de 2022, pues la pregunta sobre “¿cómo voto?” da a entender de un corporado que no está siguiendo el debate y debe cumplir con la votación. Le puede interesar: El condenado Pulgar buscaría (nuevamente) tener curul a través de su esposa.  Es más, sus colegas de la Cámara están criticando el comportamiento de Hernández. “Un nuevo episodio de cómo la Cámara se convierte en una notaría. Duele nuestra democracia”, escribió en Twitter José Daniel López, de Cambio Radical, haciendo alusión al video que circula en redes. López denunció que, en apenas 40 minutos, a la media noche del pasado miércoles y con múltiples apagadas de micrófonos a la oposición se aprobó el artículo 125 que modifica la Ley de Garantías y permite la contratación y convenios interadministrativos en pleno período electoral. Esta modificación tendría efecto, justamente, en los comicios de 2022. Según expertos y congresistas de la oposición, esto permite que las maquinarias clientelares que hacen presencia dentro de las administraciones locales, departamentales y nacionales muevan sus influencias para tomar ventaja en las elecciones. Situación que deja en alerta a los movimientos alternativos. Para muchos, el proyecto de Presupuesto 2022, que es una ley orgánica, debe pasar a revisión por parte de la Corte Constitucional ya que incluye el artículo de Ley de Garantías, que es una ley estatutaria y maneja unos trámites y mayorías diferentes a la orgánica. Es decir, si bien la ley de Presupuesto entraría en vigencia una vez sea sancionada por el presidente Iván Duque, el artículo que hace referencia a la Ley de Garantías debe pasar por revisión constitucional. Más: Corte Constitucional, último intento para evitar cambios a la Ley de Garantías.  “Antes de entrar en vigencia una ley como la ley de garantías por sus modificaciones tiene que ir a una revisión previa de la Corte Constitucional, y si no va a esa revisión previa, la Corte puede asumir de oficio de estudio de esa ley estatutaria. El presidente del Senado y la República, a quienes les va a llegar la ley orgánica del presupuesto con el mico incorporado, faltarían a sus deberes y se pueden ver incursos en una falta disciplinaria y ser investigados si no actúan conforme a la ley estatutaria, es decir, tienen que mandar el articulito a la Corte dentro de los seis días siguientes al momento que les llegue el proyecto para su firma, para que la Corte pueda analizarlo antes de entrar en vigencia. Sin antes de eso, la ley no puede ser aplicada por ningún funcionario en Colombia”, explicó Juan Fernando Cristo, exministro del Interior y ahora precandidato presidencial. Ya hay quienes hablan de demandas al artículo y al trámite del mismo, sin embargo, hasta que no sea sancionada y no entre en vigencia, no puede ser demandable.'},\n",
       " {'title': '“Bases de datos del DANE no son confiables”: registrador nacional ',\n",
       "  'relative_path': '/economia/bases-de-datos-del-dane-no-son-confiables-registrador-nacional/',\n",
       "  'datetime': '22 Oct. 2021  - 8:16 a.\\xa0m.',\n",
       "  'author': 'Redacción Economía',\n",
       "  'summary': 'El registrador nacional, Alexander Vega, dijo que en Colombia hay 55 millones de personas, más de las que reportó el DANE en el último censo. Juan Daniel Oviedo, director de la entidad, le pide dar el debate con las cifras que son.',\n",
       "  'full_text': 'Durante la entrega de tres nuevas registradurías auxiliares en Soacha, el registrador nacional, Alexander Vega Rocha, lanzó duras críticas al Departamento Administrativo Nacional de Estadística (DANE) al afirmar que sus bases de datos no coinciden con las de la Registraduría. Según Vega, las cifras poblacionales que reporta la entidad sobre lugares como Soacha son menores a las reales, lo que puede afectar las transferencias que les hace el Gobierno a los municipios. Lea también: Así le fue a la economía colombiana en agosto de 2021 “Las bases de datos del DANE no son confiables frente al registro civil que tiene Colombia y la Registraduría. No es posible que a municipios como Soacha le pongan menos población de la que realmente tiene. Estoy dispuesto a dar el debate con el director del DANE”, aseguró el registrador. El funcionario también cuestionó las cifras del último censo nacional y dijo que el Gobierno no está aprovechando las bases de datos de la Registraduría. “Al país no hay que decirle mentiras. ¿Cómo explican que en el DANE somos 50 millones de colombianos y en la Registraduría, en el registro civil, somos 55 (millones)?”, dijo. El director del DANE, Juan Daniel Oviedo, respondió en Red+Noticias a dichas declaraciones, no sin antes aclarar que en Colombia somos un poco más de 51 millones de personas a junio de 2021 (esto, según las proyecciones a partir de los 48 millones identificados en el censo de 2018). “Nos sorprende que el registrador haga estas declaraciones en el sentido en que desde 2017 venimos trabajando articuladamente con la Registraduría”, dijo Oviedo. Para volver a leer: Colombia llegó a 50 millones de habitantes. ¿Ahora qué viene? Según el director del DANE, desde 2017 se hacen chequeos de las bases de datos cada tres meses y hay actas de comités técnicos. Además, ahora se desarrolla el Registro Estadístico Base de Población, que contiene más de 62 millones de registros clasificados y marcados. Oviedo explicó que en el registro civil nadie puede desaparecer, pues solo se hace una marca si la persona muere, migra o si se cancelan registros. “Le hemos enviado al señor registrador, después de haber cruzado con más de 34 registros administrativos, una lista de casi 3 millones de registros que están en la Registraduría y que seguramente están asociados con la estimación oficial que hace el sistema de Naciones Unidas de colombianos que residen en el exterior”, dijo. De los más de 60 millones de registros que tiene la Registraduría, hay unos 3,8 millones de fallecidos y 3,5 millones de marcas asociadas con cancelación. Es decir, a esos 60 millones de registros habría que restarle unas 11 millones de personas, dando las 49 millones de personas que certificó el DANE en 2018. También fue enfático en que así como la Registraduría tiene la competencia de identificar a los colombianos y organizar los procesos electorales, la ley establece que la autoridad estadística oficial en materia de certificaciones de población es el DANE. “Lo invitamos a que sigamos trabajando y nos envíe el estudio técnico que motivó esas declaraciones para que el debate se dé con cifras”, concluyó Oviedo.'},\n",
       " {'title': 'Gobierno, a rendir cuentas sobre sobre atención a mujeres víctimas del conflicto',\n",
       "  'relative_path': '/politica/gobierno-a-rendir-cuentas-sobre-sobre-atencion-a-mujeres-victimas-del-conflicto/',\n",
       "  'datetime': '22 Oct. 2021  - 6:00 a.\\xa0m.',\n",
       "  'author': 'Redacción Política',\n",
       "  'summary': 'El Congreso citó a nueve entidades del Estado colombiano, entre ellas al Ejecutivo, para que expliquen lo que han hecho para prevenir y atender a esta población. Entre 2001 y 2009, cada hora hubo 6 mujeres que sufrieron violencia sexual en Colombia.',\n",
       "  'full_text': 'El próximo miércoles 27 de octubre se tiene previsto que, ante el Congreso de la República y en desarrollo de una audiencia pública, el Gobierno de Iván Duque, así como otras entidades del Estado, rindan cuentas sobre las medidas que ha adoptado para prevenir y atender a las mujeres víctimas del conflicto armado, así como las garantías de no repetición. La audiencia será realizada en la Comisión Séptima del Senado, encargada, entre otros, de asuntos de la mujer y de la familia. A ella están citadas nueve instituciones que deberán dar cuenta sobre los instrumentos, marcos jurídicos y espacios de escucha que permitan prevenir y enfrentar la magnitud de la problemática. “La realidad de la violencia contra las mujeres es quizá uno de los conflictos sociales con menor visibilidad en el país, debido a múltiples factores de toda índole: la complejidad de las situaciones individuales de las mujeres, la falta de reconocimiento de esta problemática como un problema social, las barreras para el acceso a la justicia y la desigualdad estructural entre ambos sexos, entre otras”, explicaron los convocantes de la audiencia. Los citantes también recordaron cifras del Centro Nacional de Memoria Histórica que, en su informe “Guerra inscrita en el cuerpo”, documentó que hasta septiembre de 2017 había 15.076 personas víctimas de delitos contra la libertad y la integridad sexual en el marco del conflicto armado. De estas, el 91,6 % eran niñas, adolescentes y mujeres adultas. Por otro lado, la campaña “violaciones y otras violencias: saquen mi cuerpo de la guerra” encontró que entre 2001 y 2009, en promedio, cada hora hubo 6 mujeres que sufrieron violencia sexual en Colombia. Adicionalmente, una encuesta aplicada por organizaciones de mujeres, también entre 2000 y 2009, señaló que 12.809 mujeres fueron víctimas de violación relacionada al conflicto, otras 1.575 obligadas a ejercer la prostitución, 4.415 con embarazos forzados y 1.810 víctimas abortos forzados. “Con todo esto, la tesis de que los cuerpos de las mujeres han sido utilizados en este conflicto para lograr objetivos militares y como botín de guerra, pero también para ejercer control social y territorial sigue siendo vigente”, advirtieron, llamando la atención por dificultades como el subregistro, “pues las mujeres han optado por guardar su dolor y no contar lo sucedido por miedo a ser señaladas, estigmatizadas o incluso revictimizadas por las mismas instituciones encargadas de tratar los temas o de impartir justicia”. Los citantes son los senadores Aida Avella (UP), Alberto Castilla e Iván Cepeda (Polo Democrático), junto a organizaciones como Oxfam Colombia, Tejido Mujer ACIN, la Fundación Nydia Erika Bautista y Casa de la Mujer. Deberían rendir cuentas instituciones como el Sistema de Verdad, Justicia y Reparación, el Ministerio Público y los despachos presidenciales encargados de estos asuntos.'},\n",
       " {'title': 'También para Congreso: ya van 129 comités que buscan recolectar firmas',\n",
       "  'relative_path': '/politica/tambien-para-congreso-ya-van-129-comites-que-buscan-recolectar-firmas/',\n",
       "  'datetime': '21 Oct. 2021  - 10:27 p.\\xa0m.',\n",
       "  'author': 'Redacción Política',\n",
       "  'summary': 'La Registraduría precisó que no se exigirán más de 50.000 firmas válidas para la inscripción con miras a las elecciones de marzo próximo. El plazo para el registro de comités vence el 13 de noviembre del 2021.',\n",
       "  'full_text': 'No solo es un fenómeno que se presente con miras a las elecciones para presidente de la República. Según cifras de la Registraduría Nacional reveladas este jueves, hasta ahora se han registrado 129 comités inscriptores al Congreso por grupos significativos de ciudadanos y movimientos sociales, buscando avalar sus candidaturas a través de firmas.  En contexto: ¿Campaña anticipada? Póngale la firma De acuerdo con la entidad, los comités inscritos no son solo para avalar candidaturas, sino para promover el voto en blanco con miras a las elecciones legislativas, que se celebrarán en marzo próximo. “Del total, 66 corresponden a comités inscriptores de candidaturas a la Cámara de Representantes (61 por circunscripción territorial y cinco por la circunscripción internacional), 41 a comités inscriptores de candidaturas al Senado, 8 a comités promotores del voto en blanco (cuatro por Cámara y cuatro por Senado) y 14 a comités que desistieron del registro (nueve a la Cámara y cinco al Senado”, explicó la Registraduría. En el caso de los comités para Congreso, deberán recoger un número mínimo de firmas válidas equivalente al 20 % del resultado de la división de la cantidad de ciudadanos aptos para votar en la respectiva circunscripción electoral, entre el número de curules por proveer. En todo caso, en ningún caso se exigirán más de 50.000 firmas válidas para la inscripción. Lea también: Firmas: ¿espejismo o avance democrático? “El término para el registro de los comités inscriptores de candidaturas y promotores del voto en blanco apoyados por grupos significativos de ciudadanos y movimientos sociales vence el 13 de noviembre del 2021, esto, de acuerdo con lo establecido en el calendario electoral para las elecciones del Congreso”, precisó. Con corte al pasado 17 de septiembre, según datos de la Registraduría conocidos por este diario, solo para Presidencia de la República se contaba con al menos 30 comités para recoger las firmas que servirán de sostén para el aspirante. Ello implica que, en solo cuatro meses, y a tres de que concluya la inscripción de más, ya se cuentan más de la mitad del total de grupos que se registraron para 2018. Los beneficios de conformar el pelotón de candidatos por firmas no son de poca monta. Aunque la norma indica que los aspirantes solo pueden iniciar la propaganda electoral tres meses antes de la elección -en el caso de los presidenciables el 28 de febrero-, quienes se le miden a recoger rubricas tienen patente de corso para salir a las calles y ganar visibilidad con la recolección de apoyos, pueden sumar recursos sin mayor vigilancia y hasta marginarse de partidos políticos tradicionales, sacando pecho como “independientes”. Una muestra de ello se vivió hace apenas dos años, en los últimos comicios en el país: las elecciones de alcaldes, gobernadores y autoridades locales. En 2019, los Grupos Significativos de Ciudadanos llegaron a los 1.164. Incluso, al revisar las elecciones legislativas de 2014, se evidencia que para Senado hubo 55 y para Cámara de Representantes 117.'}]"
      ]
     },
     "execution_count": 34,
     "metadata": {},
     "output_type": "execute_result"
    }
   ],
   "source": [
    "news"
   ]
  },
  {
   "cell_type": "code",
   "execution_count": 36,
   "metadata": {},
   "outputs": [
    {
     "data": {
      "text/plain": [
       "<pymongo.results.InsertManyResult at 0x7f3c3490ccc0>"
      ]
     },
     "execution_count": 36,
     "metadata": {},
     "output_type": "execute_result"
    }
   ],
   "source": [
    "# Storing extracted information for further analysis\n",
    "collection.insert_many(news)"
   ]
  },
  {
   "cell_type": "code",
   "execution_count": null,
   "metadata": {},
   "outputs": [],
   "source": []
  }
 ],
 "metadata": {
  "kernelspec": {
   "display_name": "Python 3",
   "language": "python",
   "name": "python3"
  },
  "language_info": {
   "codemirror_mode": {
    "name": "ipython",
    "version": 3
   },
   "file_extension": ".py",
   "mimetype": "text/x-python",
   "name": "python",
   "nbconvert_exporter": "python",
   "pygments_lexer": "ipython3",
   "version": "3.8.8"
  }
 },
 "nbformat": 4,
 "nbformat_minor": 4
}
